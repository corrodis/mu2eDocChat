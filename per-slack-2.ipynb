{
 "cells": [
  {
   "cell_type": "code",
   "execution_count": 1,
   "id": "d6c44ad2-48a9-4c0c-8cc3-231766bb81ef",
   "metadata": {},
   "outputs": [],
   "source": [
    "import sys\n",
    "import os\n",
    "\n",
    "base_dir = os.path.abspath(os.path.join(os.path.dirname(''), '..'))\n",
    "sys.path.append(base_dir)\n",
    "os.environ['MU2E'] = base_dir\n",
    "\n",
    "import os\n",
    "from dotenv import load_dotenv\n",
    "\n",
    "load_dotenv()\n",
    "\n",
    "slack_api = os.getenv(\"SLACK_BOT_TOKEN\") "
   ]
  },
  {
   "cell_type": "code",
   "execution_count": 2,
   "id": "7c9a8f81-f972-40b0-86ac-2079c66c30bf",
   "metadata": {},
   "outputs": [
    {
     "name": "stderr",
     "output_type": "stream",
     "text": [
      "/Users/annabelleboots/claude-env/lib/python3.12/site-packages/bitsandbytes/cextension.py:34: UserWarning: The installed version of bitsandbytes was compiled without GPU support. 8-bit optimizers, 8-bit multiplication, and GPU quantization are unavailable.\n",
      "  warn(\"The installed version of bitsandbytes was compiled without GPU support. \"\n"
     ]
    },
    {
     "name": "stdout",
     "output_type": "stream",
     "text": [
      "'NoneType' object has no attribute 'cadam32bit_grad_fp32'\n",
      "loading the mu2e assistant\n"
     ]
    }
   ],
   "source": [
    "import mu2e;"
   ]
  },
  {
   "cell_type": "code",
   "execution_count": null,
   "id": "4978a3cc-7900-4f49-af92-87fb3499b943",
   "metadata": {},
   "outputs": [
    {
     "name": "stdout",
     "output_type": "stream",
     "text": [
      "New message: hi\n",
      "Processing with LLM: hi, ts: 1723748255.576349\n"
     ]
    },
    {
     "name": "stderr",
     "output_type": "stream",
     "text": [
      "huggingface/tokenizers: The current process just got forked, after parallelism has already been used. Disabling parallelism to avoid deadlocks...\n",
      "To disable this warning, you can either:\n",
      "\t- Avoid using `tokenizers` before the fork if possible\n",
      "\t- Explicitly set the environment variable TOKENIZERS_PARALLELISM=(true | false)\n",
      "INFO:httpx:HTTP Request: POST https://api.anthropic.com/v1/messages \"HTTP/1.1 200 OK\"\n"
     ]
    }
   ],
   "source": [
    "import os\n",
    "import time\n",
    "from slack_sdk import WebClient\n",
    "from slack_sdk.errors import SlackApiError\n",
    "from datetime import datetime\n",
    "\n",
    "# Initialize the Slack client\n",
    "client = WebClient(token=slack_api)\n",
    "\n",
    "# Define the channel ID for llm_tests\n",
    "LLM_TESTS_CHANNEL_ID = \"C07DXJHBVR9\"  # Replace with actual channel ID\n",
    "\n",
    "# Keep track of the latest timestamp we've processed\n",
    "latest_ts = None\n",
    "\n",
    "threads = {} # store thread_ts:last active\n",
    "\n",
    "def fetch_new_messages():\n",
    "    global latest_ts\n",
    "    try:\n",
    "        # Fetch history of the channel\n",
    "        #ts_ = None if latest_ts == None else str(float(latest_ts)-(3600.*5))\n",
    "        ts_ = latest_ts\n",
    "        result = client.conversations_history(\n",
    "            channel=LLM_TESTS_CHANNEL_ID,\n",
    "            oldest= ts_\n",
    "        )\n",
    "\n",
    "        # Process new messages\n",
    "        messages = result[\"messages\"]\n",
    "        #messages.reverse()  # To process older messages first\n",
    "\n",
    "        for message in messages:\n",
    "            if \"bot_id\" not in message and message['type'] == \"message\":  # Ignore bot messages\n",
    "                if 'subtype' in message:\n",
    "                    if message['subtype'] == \"channel_join\":\n",
    "                        continue\n",
    "                \n",
    "                process_message(message)\n",
    "                latest_ts = message[\"ts\"]\n",
    "\n",
    "        # check all active threads for new messages\n",
    "        for ts in threads.keys():\n",
    "            result = client.conversations_replies(\n",
    "            channel=LLM_TESTS_CHANNEL_ID,\n",
    "            ts=ts\n",
    "            )\n",
    "            messages = result[\"messages\"]\n",
    "            if \"bot_id\" not in messages[-1]:\n",
    "                ts_latest = messages[-1][\"ts\"] # ts of latest message\n",
    "                text = messages[-1][\"text\"]\n",
    "                if float(ts_latest) > threads[ts]['ts']:\n",
    "                    print(\"new message to answer to in thread\")\n",
    "                    process_with_llm(text, ts, threads[ts]['chat'])\n",
    "            \n",
    "\n",
    "    except SlackApiError as e:\n",
    "        print(f\"Error fetching messages: {e}\")\n",
    "\n",
    "def process_message(message):\n",
    "    user = message[\"user\"]\n",
    "    text = message[\"text\"]\n",
    "    ts = message[\"ts\"]\n",
    "    typ = message[\"type\"]\n",
    "    if float(ts) < datetime.now().timestamp()-5.:\n",
    "        return\n",
    "\n",
    "    print(f\"New message: {text}\")\n",
    "    #print(message)\n",
    "    \n",
    "    process_with_llm(text, ts)\n",
    "\n",
    "def process_with_llm(text, thread_ts, chat=None):\n",
    "    global threads\n",
    "    print(f\"Processing with LLM: {text}, ts: {thread_ts}\")\n",
    "\n",
    "    if chat is None:\n",
    "         chat = mu2e.chat() # start a new chat if no chat exists yet\n",
    "\n",
    "    \n",
    "    answer = chat.ask(text)\n",
    "    \n",
    "\n",
    "    response_text = answer.content[0].text\n",
    "    #response_text = \"answer\"\n",
    "\n",
    "    result = client.chat_postMessage(\n",
    "            channel=LLM_TESTS_CHANNEL_ID,\n",
    "            thread_ts=thread_ts,\n",
    "            text=response_text\n",
    "        )\n",
    "    if thread_ts not in threads:\n",
    "         threads[thread_ts] = {'ts':datetime.now().timestamp(),\n",
    "                               'chat':chat}\n",
    "    else:\n",
    "        threads[thread_ts]['ts'] = datetime.now().timestamp()\n",
    "\n",
    "if __name__ == \"__main__\":\n",
    "    while True:\n",
    "        fetch_new_messages()\n",
    "        time.sleep(5)  # Wait for 5 seconds before checking again"
   ]
  },
  {
   "cell_type": "code",
   "execution_count": null,
   "id": "9e53f230-c40a-40ff-acfd-7610ca599b68",
   "metadata": {},
   "outputs": [],
   "source": []
  }
 ],
 "metadata": {
  "kernelspec": {
   "display_name": "claude-env",
   "language": "python",
   "name": "claude-env"
  },
  "language_info": {
   "codemirror_mode": {
    "name": "ipython",
    "version": 3
   },
   "file_extension": ".py",
   "mimetype": "text/x-python",
   "name": "python",
   "nbconvert_exporter": "python",
   "pygments_lexer": "ipython3",
   "version": "3.12.4"
  }
 },
 "nbformat": 4,
 "nbformat_minor": 5
}
