{
 "cells": [
  {
   "cell_type": "code",
   "execution_count": 2,
   "id": "99028b32-1c88-428a-ae3c-6316719fc8ee",
   "metadata": {},
   "outputs": [],
   "source": [
    "import anthropic\n",
    "client = anthropic.Anthropic(api_key=\"\")"
   ]
  },
  {
   "cell_type": "code",
   "execution_count": 1,
   "id": "feae8852-5767-4b32-9574-a07e4fa96d5d",
   "metadata": {},
   "outputs": [
    {
     "name": "stderr",
     "output_type": "stream",
     "text": [
      "/Users/annabelleboots/claude-env/lib/python3.12/site-packages/bitsandbytes/cextension.py:34: UserWarning: The installed version of bitsandbytes was compiled without GPU support. 8-bit optimizers, 8-bit multiplication, and GPU quantization are unavailable.\n",
      "  warn(\"The installed version of bitsandbytes was compiled without GPU support. \"\n"
     ]
    },
    {
     "name": "stdout",
     "output_type": "stream",
     "text": [
      "'NoneType' object has no attribute 'cadam32bit_grad_fp32'\n",
      "loading the mu2e assistant\n"
     ]
    }
   ],
   "source": [
    "import mu2e \n",
    "import os"
   ]
  },
  {
   "cell_type": "code",
   "execution_count": 3,
   "id": "0418ac24-531d-448a-9891-547924babdf1",
   "metadata": {},
   "outputs": [],
   "source": [
    "def prompt(q):\n",
    "    message = client.messages.create(\n",
    "        model = \"claude-3-5-sonnet-20240620\",\n",
    "        system = mu2e.getSystemPrompt(q),\n",
    "        max_tokens = 512,\n",
    "        temperature = 0.7,\n",
    "        messages = [\n",
    "            {\"role\":\"user\", \"content\": q }\n",
    "        ]\n",
    "    )\n",
    "    return message.content[0].text"
   ]
  },
  {
   "cell_type": "code",
   "execution_count": 4,
   "id": "804a6f8b-8eea-4857-8da1-f0b0089d3070",
   "metadata": {},
   "outputs": [
    {
     "name": "stderr",
     "output_type": "stream",
     "text": [
      "huggingface/tokenizers: The current process just got forked, after parallelism has already been used. Disabling parallelism to avoid deadlocks...\n",
      "To disable this warning, you can either:\n",
      "\t- Avoid using `tokenizers` before the fork if possible\n",
      "\t- Explicitly set the environment variable TOKENIZERS_PARALLELISM=(true | false)\n",
      "INFO:httpx:HTTP Request: POST https://api.anthropic.com/v1/messages \"HTTP/1.1 200 OK\"\n"
     ]
    },
    {
     "data": {
      "text/plain": [
       "'Here is the abstract for \"STM: Fine Adjustment for Vertical-axis Rotation of the FOV\":\\n\\nWe performed geometric acceptance studies of the Stopping Target Monitor upstream infrastructure to determine the fine adjustment requirement for rotations about the vertical-axis of the Field of View Collimator. Relative acceptance plots are generated using a Monte Carlo simulation of the gamma-ray beamline geometry. Tracks were simulated to follow straight-lines originating from a randomly chosen point on the Stopping Target and ending on a randomly chosen point on one of the Detectors (LaBr3 and HPGe) located behind their respective Spot Size Collimator. The total rotational range of motion about the vertical for this collimator is plus or minus one degree. This report recommends that the engineering design for fine adjustment be 0.2 degrees; this figure can also be taken as the lower bound.\\n\\n[https://mu2ewiki.fnal.gov/wiki/GeometryBrowserTutorial2019#Introduction]'"
      ]
     },
     "execution_count": 4,
     "metadata": {},
     "output_type": "execute_result"
    }
   ],
   "source": [
    "prompt(\"what is the abstract of STM: Fine Adjustment for Vertical-axis Rotation of the FOV?\")"
   ]
  },
  {
   "cell_type": "code",
   "execution_count": 5,
   "id": "f99c5b3f-3715-4222-a943-4b64268d4a59",
   "metadata": {},
   "outputs": [
    {
     "name": "stderr",
     "output_type": "stream",
     "text": [
      "INFO:httpx:HTTP Request: POST https://api.anthropic.com/v1/messages \"HTTP/1.1 200 OK\"\n"
     ]
    },
    {
     "data": {
      "text/plain": [
       "'Mu2e is a high-precision particle physics experiment designed to search for charged lepton flavor violation by looking for the coherent conversion of a muon to an electron in the electric field of an atomic nucleus, without emitting any neutrinos. Here are some key aspects of the Mu2e experiment:\\n\\n1. Physics Goal:\\nMu2e aims to measure the rate of muon-to-electron conversion with unprecedented sensitivity. As stated in the documentation:\\n\\n\"Mu2e is an experiment designed to measure the conversion of a muon into an electron (in the field of the nucleus) without the emission of the neutrinos. In the standard model, lepton conservation tells us that when a muon decays to an electron there should be an accompanying muon neutrino to conserve muon number in the decay and an anti-electron neutrino to conserve electron number.\"\\n[https://mu2ewiki.fnal.gov/wiki/ExperimentFAQ#Mu2e_Physics]\\n\\n2. Sensitivity:\\nThe experiment aims to achieve a significantly higher sensitivity than previous experiments:\\n\\n\"The current most sensitive result from TRIUMF on ⁴⁸Ti is 1.7 10^-12 with CL. 90%. Mu2e, after one month of operation will have an exclusion power of 1.6 × 10^-14 and 2.7 × 10^-15 over the whole run period.\"\\n[https://mu2ewiki.fnal.gov/wiki/ExperimentFAQ#Mu2e_Physics]\\n\\n3. Proton Beam:\\nMu2e requires a specialized proton beam to produce the muons needed for the experiment:\\n\\n\"Mu2e requires a high intensity, pulsed proton beam to produce large numbers muons. The experiment relies on Fermilab\\'s Booster, which is also used by other Fermilab experiments, such as g-2, to provide the protons. The beam for Mu2e can be delivered while other experiments are running simultaneously.\"\\n[https://mu2ewiki.fnal.gov/wiki/ProtonBeamIntro#Introduction]\\n\\n4. Detector Systems:\\nThe experiment includes several detector systems, including:\\n\\n- Tracker: To'"
      ]
     },
     "execution_count": 5,
     "metadata": {},
     "output_type": "execute_result"
    }
   ],
   "source": [
    "prompt(\"Tell me about mu2e\")"
   ]
  },
  {
   "cell_type": "code",
   "execution_count": null,
   "id": "3ca590d1-26ea-4b52-a727-eb6e83f93b79",
   "metadata": {},
   "outputs": [],
   "source": []
  }
 ],
 "metadata": {
  "kernelspec": {
   "display_name": "claude-env",
   "language": "python",
   "name": "claude-env"
  },
  "language_info": {
   "codemirror_mode": {
    "name": "ipython",
    "version": 3
   },
   "file_extension": ".py",
   "mimetype": "text/x-python",
   "name": "python",
   "nbconvert_exporter": "python",
   "pygments_lexer": "ipython3",
   "version": "3.12.4"
  }
 },
 "nbformat": 4,
 "nbformat_minor": 5
}
