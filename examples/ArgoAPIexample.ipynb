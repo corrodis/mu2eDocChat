{
 "cells": [
  {
   "cell_type": "code",
   "execution_count": null,
   "id": "ea525e6c-6119-4bda-b693-f96c6004c10d",
   "metadata": {},
   "outputs": [],
   "source": []
  }
 ],
 "metadata": {
  "kernelspec": {
   "display_name": "Python (claude-env)",
   "language": "python",
   "name": "claude-env"
  },
  "language_info": {
   "codemirror_mode": {
    "name": "ipython",
    "version": 3
   },
   "file_extension": ".py",
   "mimetype": "text/x-python",
   "name": "python",
   "nbconvert_exporter": "python",
   "pygments_lexer": "ipython3",
   "version": "3.9.6"
  }
 },
 "nbformat": 4,
 "nbformat_minor": 5
}
