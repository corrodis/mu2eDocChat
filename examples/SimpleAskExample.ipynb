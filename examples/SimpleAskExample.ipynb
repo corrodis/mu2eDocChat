{
 "cells": [
  {
   "cell_type": "code",
   "execution_count": 1,
   "id": "f97cc063-12f2-49d1-999e-d0215693945d",
   "metadata": {},
   "outputs": [],
   "source": [
    "import sys\n",
    "import os\n",
    "\n",
    "base_dir = os.path.abspath(os.path.join(os.path.dirname(''), '..'))\n",
    "sys.path.append(base_dir)\n",
    "os.environ['MU2E'] = base_dir"
   ]
  },
  {
   "cell_type": "code",
   "execution_count": 2,
   "id": "13772be2-d7c4-4798-a7b5-1ad945be3bb5",
   "metadata": {},
   "outputs": [
    {
     "name": "stderr",
     "output_type": "stream",
     "text": [
      "/Users/scorrodi/Documents/MLAI/claude-env/lib/python3.9/site-packages/bitsandbytes/cextension.py:34: UserWarning: The installed version of bitsandbytes was compiled without GPU support. 8-bit optimizers, 8-bit multiplication, and GPU quantization are unavailable.\n",
      "  warn(\"The installed version of bitsandbytes was compiled without GPU support. \"\n"
     ]
    },
    {
     "name": "stdout",
     "output_type": "stream",
     "text": [
      "'NoneType' object has no attribute 'cadam32bit_grad_fp32'\n"
     ]
    },
    {
     "name": "stderr",
     "output_type": "stream",
     "text": [
      "/Users/scorrodi/Documents/MLAI/claude-env/lib/python3.9/site-packages/urllib3/__init__.py:35: NotOpenSSLWarning: urllib3 v2 only supports OpenSSL 1.1.1+, currently the 'ssl' module is compiled with 'LibreSSL 2.8.3'. See: https://github.com/urllib3/urllib3/issues/3020\n",
      "  warnings.warn(\n",
      "/Users/scorrodi/Documents/MLAI/claude-env/lib/python3.9/site-packages/tqdm/auto.py:21: TqdmWarning: IProgress not found. Please update jupyter and ipywidgets. See https://ipywidgets.readthedocs.io/en/stable/user_install.html\n",
      "  from .autonotebook import tqdm as notebook_tqdm\n"
     ]
    },
    {
     "name": "stdout",
     "output_type": "stream",
     "text": [
      "loading the mu2e assistent\n"
     ]
    }
   ],
   "source": [
    "import mu2e;"
   ]
  },
  {
   "cell_type": "code",
   "execution_count": 3,
   "id": "df173d80-0e77-4148-bc2d-afb5499fe270",
   "metadata": {},
   "outputs": [
    {
     "name": "stderr",
     "output_type": "stream",
     "text": [
      "huggingface/tokenizers: The current process just got forked, after parallelism has already been used. Disabling parallelism to avoid deadlocks...\n",
      "To disable this warning, you can either:\n",
      "\t- Avoid using `tokenizers` before the fork if possible\n",
      "\t- Explicitly set the environment variable TOKENIZERS_PARALLELISM=(true | false)\n",
      "INFO:httpx:HTTP Request: POST https://api.anthropic.com/v1/messages \"HTTP/1.1 200 OK\"\n"
     ]
    }
   ],
   "source": [
    "answer = mu2e.ask(\"What is mu2e?\")"
   ]
  },
  {
   "cell_type": "code",
   "execution_count": 4,
   "id": "45e1b11d-173f-4357-bfa0-c6d342da6fd4",
   "metadata": {},
   "outputs": [
    {
     "name": "stdout",
     "output_type": "stream",
     "text": [
      "Mu2e is an upcoming experiment at Fermilab that aims to search for the conversion of a muon into an electron in the presence of a nucleus. According to the Mu2e documentation:\n",
      "\n",
      "> Mu2e is an experiment that will search for the neutrinoless conversion of a negative muon into an electron in the Coulomb field of an aluminum nucleus. This process is extremely rare in the Standard Model and any observation of it would be a clear sign of new physics beyond the Standard Model. [https://mu2ewiki.fnal.gov/wiki/Computing_Concepts#Introduction]\n",
      "\n",
      "The Mu2e experiment will use a proton beam to produce muons, which will then be stopped in an aluminum target. The experiment will then search for the conversion of these stopped muons into electrons, which would be a sign of new physics. The Mu2e computing infrastructure is designed to simulate, reconstruct, and analyze the data from this experiment.\n"
     ]
    }
   ],
   "source": [
    "print(answer.content[0].text)"
   ]
  },
  {
   "cell_type": "code",
   "execution_count": null,
   "id": "d6020ef5-34b9-42be-b8ed-41c252415955",
   "metadata": {},
   "outputs": [],
   "source": []
  }
 ],
 "metadata": {
  "kernelspec": {
   "display_name": "Python (claude-env)",
   "language": "python",
   "name": "claude-env"
  },
  "language_info": {
   "codemirror_mode": {
    "name": "ipython",
    "version": 3
   },
   "file_extension": ".py",
   "mimetype": "text/x-python",
   "name": "python",
   "nbconvert_exporter": "python",
   "pygments_lexer": "ipython3",
   "version": "3.9.6"
  }
 },
 "nbformat": 4,
 "nbformat_minor": 5
}
